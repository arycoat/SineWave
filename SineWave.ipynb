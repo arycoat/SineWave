{
 "cells": [
  {
   "cell_type": "code",
   "execution_count": 5,
   "metadata": {},
   "outputs": [],
   "source": [
    "# https://ericeastwood.com/blog/7/animated-sine-wave-two-ways-with-pygame-and-tkinter\n",
    "\n",
    "import pygame\n",
    "import time\n",
    "import math\n",
    "import numpy as np\n",
    "\n",
    "\n",
    "# Some config width height settings\n",
    "canvas_width = 640\n",
    "canvas_height = 480\n",
    "\n",
    "# Just define some colors we can use\n",
    "color = pygame.Color(255, 255, 0, 0)\n",
    "background_color = pygame.Color(0, 0, 0, 0)\n",
    "\n",
    "\n",
    "pygame.init()\n",
    "# Set the window title\n",
    "pygame.display.set_caption(\"Sine Wave\")\n",
    "\n",
    "# Make a screen to see\n",
    "screen = pygame.display.set_mode((canvas_width, canvas_height))\n",
    "screen.fill(background_color)\n",
    "\n",
    "# Make a surface to draw on\n",
    "surface = pygame.Surface((canvas_width, canvas_height))\n",
    "surface.fill(background_color)\n",
    "\n",
    "length = 500\n",
    "history = np.zeros(length)\n",
    "\n",
    "# Simple main loop\n",
    "running = True\n",
    "y = 0\n",
    "while running:\n",
    "    for event in pygame.event.get():\n",
    "        if event.type == pygame.QUIT:\n",
    "            running = False\n",
    "\n",
    "    # Redraw the background\n",
    "    surface.fill(background_color)\n",
    "\n",
    "    # \n",
    "    frequency = 4\n",
    "    amplitude = 50 # in px\n",
    "    speed = 1\n",
    "    dy = np.random.randint(3) - 1\n",
    "    y = int(amplitude * dy)\n",
    "    surface.set_at((600, int(canvas_height/2) + y), pygame.Color(255, 255, 255, 0))\n",
    "    history = np.concatenate([[y], history[:length-1]])\n",
    "\n",
    "    # Update sine wave\n",
    "    for x in range(0, history.size):\n",
    "        surface.set_at((550-x, int(canvas_height/2) + int(history[x])), color)\n",
    "\n",
    "    # Put the surface we draw on, onto the screen\n",
    "    screen.blit(surface, (0, 0))\n",
    "\n",
    "    # Show it.\n",
    "    pygame.display.flip()\n",
    "    \n",
    "pygame.quit()"
   ]
  },
  {
   "cell_type": "code",
   "execution_count": 9,
   "metadata": {},
   "outputs": [
    {
     "name": "stdout",
     "output_type": "stream",
     "text": [
      "[88.  0.  0.  0.  0.]\n",
      "88.0\n",
      "0\n",
      "0\n",
      "2\n"
     ]
    }
   ],
   "source": [
    "import numpy as np\n",
    "\n",
    "h = np.zeros(5)\n",
    "h = np.concatenate([[88], h[:4]])\n",
    "\n",
    "print(h)\n",
    "print(h[0])\n",
    "\n",
    "print (np.random.randint(3))\n",
    "print (np.random.randint(3))\n",
    "print (np.random.randint(3))"
   ]
  }
 ],
 "metadata": {
  "kernelspec": {
   "display_name": "Python 3",
   "language": "python",
   "name": "python3"
  },
  "language_info": {
   "codemirror_mode": {
    "name": "ipython",
    "version": 3
   },
   "file_extension": ".py",
   "mimetype": "text/x-python",
   "name": "python",
   "nbconvert_exporter": "python",
   "pygments_lexer": "ipython3",
   "version": "3.6.4"
  }
 },
 "nbformat": 4,
 "nbformat_minor": 2
}
